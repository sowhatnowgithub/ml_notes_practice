{
 "cells": [
  {
   "cell_type": "code",
   "execution_count": 5,
   "id": "4ebf5e14-df58-4bdc-8b2f-845ef2cdb03d",
   "metadata": {},
   "outputs": [],
   "source": [
    "from typing import List"
   ]
  },
  {
   "cell_type": "code",
   "execution_count": 16,
   "id": "01f58135-40fe-4e11-b12a-29d7d98dba40",
   "metadata": {},
   "outputs": [],
   "source": [
    "def square(a)->float:\n",
    "    return a*a"
   ]
  },
  {
   "cell_type": "code",
   "execution_count": 17,
   "id": "88e267cf-17d6-48a1-be00-396b5d421e6a",
   "metadata": {},
   "outputs": [
    {
     "data": {
      "text/plain": [
       "\u001b[0;31mSignature:\u001b[0m \u001b[0msquare\u001b[0m\u001b[0;34m(\u001b[0m\u001b[0ma\u001b[0m\u001b[0;34m)\u001b[0m \u001b[0;34m->\u001b[0m \u001b[0mfloat\u001b[0m\u001b[0;34m\u001b[0m\u001b[0;34m\u001b[0m\u001b[0m\n",
       "\u001b[0;31mDocstring:\u001b[0m <no docstring>\n",
       "\u001b[0;31mFile:\u001b[0m      /var/folders/my/hf47wzvn4bl8n2m_tgkx60j40000gn/T/ipykernel_20614/3529473.py\n",
       "\u001b[0;31mType:\u001b[0m      function"
      ]
     },
     "metadata": {},
     "output_type": "display_data"
    }
   ],
   "source": [
    "square?"
   ]
  },
  {
   "cell_type": "code",
   "execution_count": 18,
   "id": "61bfb452-cf1b-46b9-bce2-8f695d063f7f",
   "metadata": {},
   "outputs": [
    {
     "data": {
      "text/plain": [
       "\u001b[0;31mSignature:\u001b[0m \u001b[0msquare\u001b[0m\u001b[0;34m(\u001b[0m\u001b[0ma\u001b[0m\u001b[0;34m)\u001b[0m \u001b[0;34m->\u001b[0m \u001b[0mfloat\u001b[0m\u001b[0;34m\u001b[0m\u001b[0;34m\u001b[0m\u001b[0m\n",
       "\u001b[0;31mDocstring:\u001b[0m <no docstring>\n",
       "\u001b[0;31mSource:\u001b[0m   \n",
       "\u001b[0;32mdef\u001b[0m \u001b[0msquare\u001b[0m\u001b[0;34m(\u001b[0m\u001b[0ma\u001b[0m\u001b[0;34m)\u001b[0m\u001b[0;34m->\u001b[0m\u001b[0mfloat\u001b[0m\u001b[0;34m:\u001b[0m\u001b[0;34m\u001b[0m\n",
       "\u001b[0;34m\u001b[0m    \u001b[0;32mreturn\u001b[0m \u001b[0ma\u001b[0m\u001b[0;34m*\u001b[0m\u001b[0ma\u001b[0m\u001b[0;34m\u001b[0m\u001b[0;34m\u001b[0m\u001b[0m\n",
       "\u001b[0;31mFile:\u001b[0m      /var/folders/my/hf47wzvn4bl8n2m_tgkx60j40000gn/T/ipykernel_20614/3529473.py\n",
       "\u001b[0;31mType:\u001b[0m      function"
      ]
     },
     "metadata": {},
     "output_type": "display_data"
    }
   ],
   "source": [
    "square??"
   ]
  },
  {
   "cell_type": "code",
   "execution_count": 25,
   "id": "b8f289d3-21d6-4d4f-b411-6d7b8db4f06a",
   "metadata": {},
   "outputs": [
    {
     "data": {
      "text/plain": [
       "4"
      ]
     },
     "execution_count": 25,
     "metadata": {},
     "output_type": "execute_result"
    }
   ],
   "source": [
    "lists = [2,2,2,2]\n",
    "lists.count(2)\n",
    "# lists._ "
   ]
  },
  {
   "cell_type": "code",
   "execution_count": 26,
   "id": "9067a2f8-bc27-4342-a5a6-732dd6cd243a",
   "metadata": {},
   "outputs": [
    {
     "data": {
      "text/plain": [
       "BytesWarning\n",
       "DeprecationWarning\n",
       "EncodingWarning\n",
       "FutureWarning\n",
       "ImportWarning\n",
       "PendingDeprecationWarning\n",
       "ResourceWarning\n",
       "RuntimeWarning\n",
       "SyntaxWarning\n",
       "UnicodeWarning\n",
       "UserWarning\n",
       "Warning"
      ]
     },
     "metadata": {},
     "output_type": "display_data"
    }
   ],
   "source": [
    "*Warning?"
   ]
  },
  {
   "cell_type": "code",
   "execution_count": 26,
   "id": "a0e0ebbf-0356-4dbc-a580-a5b430b3a5e2",
   "metadata": {},
   "outputs": [
    {
     "data": {
      "text/plain": [
       "'https://dpaste.com/HJ7YXT7CD'"
      ]
     },
     "execution_count": 27,
     "metadata": {},
     "output_type": "execute_result"
    }
   ],
   "source": [
    "%pastebin"
   ]
  },
  {
   "cell_type": "code",
   "execution_count": 27,
   "id": "d238086e-774d-489d-bb28-a25f35fa5e1e",
   "metadata": {},
   "outputs": [
    {
     "name": "stdout",
     "output_type": "stream",
     "text": [
      "help(assert)\n",
      "help(len)\n",
      "assert?\n",
      "len?\n",
      "from typing import List\n",
      "Vector = List(float)\n",
      "Vector = List[float]\n",
      "Vector = List[float]\n",
      "List?\n",
      "Vector = List[float]\n",
      "Vector.insert(4)\n",
      "Vector = List[float]\n",
      "vector = []\n",
      "vector.insert(4)\n",
      "Vector = List[float]\n",
      "vector = []\n",
      "vector.insert(4,0)\n",
      "vector\n",
      "vector\n",
      "Vector = List[float]\n",
      "vector = []\n",
      "vector.insert(0,1)\n",
      "vector\n",
      "def square(a)->float:\n",
      "    return a*a\n",
      "square?\n",
      "square??\n",
      "lists = []\n",
      "lists.count\n",
      "lists = []\n",
      "lists.count()\n",
      "lists = []\n",
      "lists.count\n",
      "lists = []\n",
      "lists.count(2)\n",
      "lists = [2,2,2,2]\n",
      "lists.count(2)\n",
      "lists = [2,2,2,2]\n",
      "lists.count(2)\n",
      "lists._\n",
      "lists = [2,2,2,2]\n",
      "lists.count(2)\n",
      "# lists._\n",
      "*Warning?\n",
      "%history\n"
     ]
    }
   ],
   "source": [
    "%history"
   ]
  },
  {
   "cell_type": "code",
   "execution_count": 29,
   "id": "777f027a-c148-4b38-86b0-14a07d18c8c0",
   "metadata": {},
   "outputs": [
    {
     "name": "stdout",
     "output_type": "stream",
     "text": [
      "\u001b[H\u001b[2J"
     ]
    }
   ],
   "source": [
    "%clear"
   ]
  },
  {
   "cell_type": "code",
   "execution_count": 30,
   "id": "131e7c72-9cdd-4b23-a4ed-c142c6190aee",
   "metadata": {},
   "outputs": [
    {
     "name": "stdout",
     "output_type": "stream",
     "text": [
      "help(assert)\n",
      "help(len)\n",
      "assert?\n",
      "len?\n",
      "from typing import List\n",
      "Vector = List(float)\n",
      "Vector = List[float]\n",
      "Vector = List[float]\n",
      "List?\n",
      "Vector = List[float]\n",
      "Vector.insert(4)\n",
      "Vector = List[float]\n",
      "vector = []\n",
      "vector.insert(4)\n",
      "Vector = List[float]\n",
      "vector = []\n",
      "vector.insert(4,0)\n",
      "vector\n",
      "vector\n",
      "Vector = List[float]\n",
      "vector = []\n",
      "vector.insert(0,1)\n",
      "vector\n",
      "def square(a)->float:\n",
      "    return a*a\n",
      "square?\n",
      "square??\n",
      "lists = []\n",
      "lists.count\n",
      "lists = []\n",
      "lists.count()\n",
      "lists = []\n",
      "lists.count\n",
      "lists = []\n",
      "lists.count(2)\n",
      "lists = [2,2,2,2]\n",
      "lists.count(2)\n",
      "lists = [2,2,2,2]\n",
      "lists.count(2)\n",
      "lists._\n",
      "lists = [2,2,2,2]\n",
      "lists.count(2)\n",
      "# lists._\n",
      "*Warning?\n",
      "%history\n",
      "clear\n",
      "%clear\n",
      "%history\n"
     ]
    }
   ],
   "source": [
    "%history\n"
   ]
  },
  {
   "cell_type": "code",
   "execution_count": 31,
   "id": "72d77a91-e319-4b85-8ec8-95db2347331d",
   "metadata": {},
   "outputs": [
    {
     "name": "stdout",
     "output_type": "stream",
     "text": [
      "Exception reporting mode: Plain\n"
     ]
    }
   ],
   "source": [
    "%xmode Plain"
   ]
  },
  {
   "cell_type": "code",
   "execution_count": 32,
   "id": "3255fe25-0264-4e25-8575-ecc2a6377788",
   "metadata": {},
   "outputs": [
    {
     "name": "stdout",
     "output_type": "stream",
     "text": [
      "> \u001b[0;32m/Users/pavan/Code/ml/ml/ml_env/lib/python3.12/site-packages/IPython/core/interactiveshell.py\u001b[0m(2460)\u001b[0;36mrun_line_magic\u001b[0;34m()\u001b[0m\n",
      "\u001b[0;32m   2458 \u001b[0;31m            extra = '' if cm is None else (' (But cell magic `%%%%%s` exists, '\n",
      "\u001b[0m\u001b[0;32m   2459 \u001b[0;31m                                    \u001b[0;34m'did you mean that instead?)'\u001b[0m \u001b[0;34m%\u001b[0m \u001b[0mmagic_name\u001b[0m \u001b[0;34m)\u001b[0m\u001b[0;34m\u001b[0m\u001b[0;34m\u001b[0m\u001b[0m\n",
      "\u001b[0m\u001b[0;32m-> 2460 \u001b[0;31m            \u001b[0;32mraise\u001b[0m \u001b[0mUsageError\u001b[0m\u001b[0;34m(\u001b[0m\u001b[0metpl\u001b[0m \u001b[0;34m%\u001b[0m \u001b[0;34m(\u001b[0m\u001b[0mmagic_name\u001b[0m\u001b[0;34m,\u001b[0m \u001b[0mextra\u001b[0m\u001b[0;34m)\u001b[0m\u001b[0;34m)\u001b[0m\u001b[0;34m\u001b[0m\u001b[0;34m\u001b[0m\u001b[0m\n",
      "\u001b[0m\u001b[0;32m   2461 \u001b[0;31m        \u001b[0;32melse\u001b[0m\u001b[0;34m:\u001b[0m\u001b[0;34m\u001b[0m\u001b[0;34m\u001b[0m\u001b[0m\n",
      "\u001b[0m\u001b[0;32m   2462 \u001b[0;31m            \u001b[0;31m# Note: this is the distance in the stack to the user's frame.\u001b[0m\u001b[0;34m\u001b[0m\u001b[0;34m\u001b[0m\u001b[0m\n",
      "\u001b[0m\n"
     ]
    },
    {
     "name": "stdin",
     "output_type": "stream",
     "text": [
      "ipdb>  a\n"
     ]
    },
    {
     "name": "stdout",
     "output_type": "stream",
     "text": [
      "self = <ipykernel.zmqshell.ZMQInteractiveShell object at 0x107b34da0>\n",
      "magic_name = 'cpaste'\n",
      "line = ''\n",
      "_stack_depth = 1\n"
     ]
    },
    {
     "name": "stdin",
     "output_type": "stream",
     "text": [
      "ipdb>  q\n"
     ]
    }
   ],
   "source": [
    "%debug"
   ]
  },
  {
   "cell_type": "code",
   "execution_count": null,
   "id": "8d065b67-5def-4c1b-b339-7d7512982b25",
   "metadata": {},
   "outputs": [],
   "source": []
  }
 ],
 "metadata": {
  "kernelspec": {
   "display_name": "Python 3 (ipykernel)",
   "language": "python",
   "name": "python3"
  },
  "language_info": {
   "codemirror_mode": {
    "name": "ipython",
    "version": 3
   },
   "file_extension": ".py",
   "mimetype": "text/x-python",
   "name": "python",
   "nbconvert_exporter": "python",
   "pygments_lexer": "ipython3",
   "version": "3.12.5"
  }
 },
 "nbformat": 4,
 "nbformat_minor": 5
}
