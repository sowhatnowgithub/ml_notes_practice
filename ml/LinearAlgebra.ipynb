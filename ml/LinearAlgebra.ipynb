{
 "cells": [
  {
   "cell_type": "code",
   "execution_count": 2,
   "id": "5ab7087c-ecd7-4dcd-8dbb-97137ba7588f",
   "metadata": {},
   "outputs": [],
   "source": [
    "from typing import List"
   ]
  },
  {
   "cell_type": "markdown",
   "id": "f11660d2-63a3-4624-a7ca-a9b210da9895",
   "metadata": {},
   "source": [
    "# Vector"
   ]
  },
  {
   "cell_type": "code",
   "execution_count": 7,
   "id": "86cacb29-1ad3-4a40-ab1b-29db2f577679",
   "metadata": {},
   "outputs": [],
   "source": [
    "Vector = List[float]\n",
    "\n",
    "heigh_weight_age = [70,\n",
    "                   170,\n",
    "                   40]\n",
    "grades = [95, \n",
    "          80, \n",
    "          75, \n",
    "          62]"
   ]
  },
  {
   "cell_type": "code",
   "execution_count": 8,
   "id": "150bb572-8924-423d-b750-b5761cf48d8a",
   "metadata": {},
   "outputs": [],
   "source": [
    "def add(v: Vector, w: Vector) -> Vector:\n",
    "    assert len(v) == len(w), \"Vectors must be of the same length\"\n",
    "    return [v_i + w_i for v_i, w_i in zip(v,w)]\n",
    "assert add([1,2,3],[4,5,6]) == [5,7,9]\n",
    "def subtract(v: Vector, w: Vector) -> Vector:\n",
    "    assert len(v) == len(w) ,\"Vectors must be of the same length\"\n",
    "    return [v_i-w_i for v_i,w_i in zip(v,w)]\n",
    "assert subtract([1,2,3],[1,2,4]) == [0,0,-1]\n",
    "def vector_sum(vectors: List[Vector]) -> Vector:\n",
    "    assert vectors, 'no vectors provided'\n",
    "    row_size = len(vectors[0])\n",
    "    assert all(len(x) == row_size for x in vectors), \"Different sizes\"\n",
    "    return [sum(vector[i] for vector in vectors)\n",
    "           for i in range(row_size)]\n",
    "assert vector_sum([[1,2]]) == [1,2]\n",
    "def scalar_multiply(s ,v: Vector) -> Vector:\n",
    "    assert v, 'Empty :('\n",
    "    return [s*v_i for v_i in v]\n",
    "assert scalar_multiply(2, [1,2,3]) == [2,4,6]\n",
    "def vector_mean(v: List[Vector]) -> Vector:\n",
    "    assert v, 'Empty Vector'\n",
    "    size_row = len(v[0])\n",
    "    assert all(len(x) == size_row for x in v), \"Different Sizes\"\n",
    "    length = len(v)\n",
    "    return scalar_multiply(1/length, vector_sum(v))\n",
    "assert vector_mean([[1,3],[3,3]]) == [2,3]\n",
    "def vector_dot(v: Vector, w: Vector):\n",
    "    assert v, 'Empty'\n",
    "    assert w, 'Empty'\n",
    "    assert len(v) == len(w), 'Different Lengths'\n",
    "    return sum(v_i*w_i for v_i,w_i in zip(v,w))\n",
    "assert vector_dot([1,2,3],[4,5,6]) == 32\n",
    "def sum_of_squares(v: Vector):\n",
    "    assert v, 'Empty'\n",
    "    return vector_dot(v,v)\n",
    "assert vector_dot([1,2],[1,2]) == 5"
   ]
  },
  {
   "cell_type": "code",
   "execution_count": 9,
   "id": "72439645-0778-424c-8c00-b20551439a33",
   "metadata": {},
   "outputs": [],
   "source": [
    "import math"
   ]
  },
  {
   "cell_type": "code",
   "execution_count": 10,
   "id": "04565dc7-19c8-4dba-8776-835838812fda",
   "metadata": {},
   "outputs": [],
   "source": [
    "def magnitude(v: Vector):\n",
    "    return math.sqrt(sum_of_squares(v))\n",
    "assert magnitude([3,4]) == 5"
   ]
  },
  {
   "cell_type": "code",
   "execution_count": 11,
   "id": "1aa2fad5-22b2-46e1-94b1-f1dadfd6c42f",
   "metadata": {},
   "outputs": [],
   "source": [
    "def squared_distances(v: Vector,w: Vector):\n",
    "    return sum_of_squares(subtract(v,w))\n",
    "def distance(v: Vector,w: Vector):\n",
    "    return math.sqrt(squared_distances(v,w))\n",
    "assert squared_distances([1,2],[3,4]) == 8\n",
    "assert distance([1,2],[3,4]) == math.sqrt(8)"
   ]
  },
  {
   "cell_type": "markdown",
   "id": "70e39f8f-882a-44c8-9d9d-e04e7d7fdb24",
   "metadata": {},
   "source": [
    "# MATRIX"
   ]
  },
  {
   "cell_type": "code",
   "execution_count": 13,
   "id": "5af5ff54-5f20-4d9b-8b01-aee3cc08c254",
   "metadata": {},
   "outputs": [],
   "source": [
    "Matrix = List[Vector]\n",
    "A = [[1,2,3],[4,5,6]]"
   ]
  },
  {
   "cell_type": "code",
   "execution_count": 14,
   "id": "814d0fe4-6bd3-499e-a342-6c2084a1b2ba",
   "metadata": {},
   "outputs": [],
   "source": [
    "from typing import Tuple\n",
    "def shape(A: Matrix)->Tuple[int,int]:\n",
    "    num_row = len(A)\n",
    "    num_columns = len(A[0])\n",
    "    return num_row, num_columns\n",
    "assert shape(A) == (2,3)"
   ]
  },
  {
   "cell_type": "code",
   "execution_count": null,
   "id": "2bc8ab33-9bd2-46e7-b9d0-a66f235841ff",
   "metadata": {},
   "outputs": [],
   "source": []
  }
 ],
 "metadata": {
  "kernelspec": {
   "display_name": "Python 3 (ipykernel)",
   "language": "python",
   "name": "python3"
  },
  "language_info": {
   "codemirror_mode": {
    "name": "ipython",
    "version": 3
   },
   "file_extension": ".py",
   "mimetype": "text/x-python",
   "name": "python",
   "nbconvert_exporter": "python",
   "pygments_lexer": "ipython3",
   "version": "3.12.5"
  }
 },
 "nbformat": 4,
 "nbformat_minor": 5
}
